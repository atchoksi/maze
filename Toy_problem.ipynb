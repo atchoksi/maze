{
 "cells": [
  {
   "cell_type": "markdown",
   "metadata": {},
   "source": [
    "## A. Class Laser"
   ]
  },
  {
   "cell_type": "code",
   "execution_count": 87,
   "metadata": {},
   "outputs": [],
   "source": [
    "class Laser:\n",
    "    \n",
    "    def __init__(self, x, y, direction):\n",
    "        self.posx = x\n",
    "        self.posy = y\n",
    "        self.compass = direction\n",
    "        \n",
    "    def changeDir(self, newDir):\n",
    "        self.compass = newDir\n",
    "        \n",
    "    def move(self, enterDir):\n",
    "        if enterDir == 'N':\n",
    "            self.posy = self.posy + 1\n",
    "        elif enterDir == 'S':\n",
    "            self.posy = self.posy - 1\n",
    "        elif enterDir == 'W':\n",
    "            self.posx = self.posx - 1\n",
    "        elif enterDir == 'E':\n",
    "            self.posx = self.posx + 1\n",
    "        else:\n",
    "            print('Incorrect Direction')"
   ]
  },
  {
   "cell_type": "code",
   "execution_count": 88,
   "metadata": {},
   "outputs": [
    {
     "name": "stdout",
     "output_type": "stream",
     "text": [
      "6\n",
      "S\n",
      "N\n",
      "7\n",
      "6\n"
     ]
    }
   ],
   "source": [
    "testL = Laser(5, 6, 'S')\n",
    "print(testL.posy)\n",
    "print(testL.compass)\n",
    "testL.changeDir('N')\n",
    "print(testL.compass)\n",
    "testL.move('N')\n",
    "print(testL.posy)\n",
    "testL.move('S')\n",
    "print(testL.posy)"
   ]
  },
  {
   "cell_type": "markdown",
   "metadata": {},
   "source": [
    "## B. Class Arena"
   ]
  },
  {
   "cell_type": "code",
   "execution_count": 99,
   "metadata": {},
   "outputs": [],
   "source": [
    "class Arena:\n",
    "    \n",
    "    def __init__(self, arenaSizeX, arenaSizeY, forwardSlash, backSlash):\n",
    "        self.traversed = []\n",
    "        self.arenaX = arenaSizeX\n",
    "        self.arenaY = arenaSizeY\n",
    "        self.mirrorForward = forwardSlash\n",
    "        self.mirrorBack = backSlash\n",
    "        \n",
    "    def addtoTraversed(self, x, y, direction):\n",
    "        self.traversed.append([x, y, direction])\n",
    "        \n",
    "    def infiniteLoop(self, x, y, direction):\n",
    "        check = [x, y, direction] in self.traversed\n",
    "        return check\n",
    "    \n",
    "    def hitWall(self, x, y):\n",
    "        checkx = (x < 0) or (x >= self.arenaX)\n",
    "        checky = (y < 0) or (y >= self.arenaY)\n",
    "        check = checkx or checky\n",
    "        return check\n",
    "    \n",
    "    def mirror(self, x, y):\n",
    "        mirrorType = None\n",
    "        if [x, y] in self.mirrorForward:\n",
    "            mirrorType = 'F'\n",
    "        elif [x, y] in self.mirrorBack:\n",
    "            mirrorType = 'B'\n",
    "            \n",
    "        return mirrorType\n",
    "    \n",
    "    def mirrorBounceForward(self, direction):\n",
    "        if direction == 'N':\n",
    "            newDir = 'E'\n",
    "        elif direction == 'E':\n",
    "            newDir = 'N'\n",
    "        elif direction == 'S':\n",
    "            newDir = 'W'\n",
    "        elif direction == 'W':\n",
    "            newDir = 'S'\n",
    "        \n",
    "        return newDir\n",
    "    \n",
    "    def mirrorBounceBack(self, direction):\n",
    "        if direction == 'N':\n",
    "            newDir = 'W'\n",
    "        elif direction == 'W':\n",
    "            newDir = 'N'\n",
    "        elif direction == 'S':\n",
    "            newDir = 'E'\n",
    "        elif direction == 'E':\n",
    "            newDir = 'S'\n",
    "        \n",
    "        return newDir\n",
    "            "
   ]
  },
  {
   "cell_type": "code",
   "execution_count": 100,
   "metadata": {},
   "outputs": [
    {
     "name": "stdout",
     "output_type": "stream",
     "text": [
      "[]\n",
      "[[5, 6, 'S']]\n",
      "[[5, 6, 'S'], [10, 50, 'N']]\n",
      "True\n",
      "False\n",
      "True\n",
      "False\n",
      "F\n",
      "None\n",
      "B\n",
      "E\n",
      "N\n",
      "E\n",
      "N\n"
     ]
    }
   ],
   "source": [
    "a = Arena(1000, 500, [[5,6], [10,12], [80,400]], [[15,16], [75,40], [400,200]])\n",
    "print(a.traversed)\n",
    "a.addtoTraversed(5, 6, 'S')\n",
    "print(a.traversed)\n",
    "a.addtoTraversed(10, 50, 'N')\n",
    "print(a.traversed)\n",
    "print(a.hitWall(-1,200))\n",
    "print(a.hitWall(5,5))\n",
    "print(a.infiniteLoop(5, 6, 'S'))\n",
    "print(a.infiniteLoop(2, 2, 'N'))\n",
    "print(a.mirror(5,6))\n",
    "print(a.mirror(10,10))\n",
    "print(a.mirror(75,40))\n",
    "print(a.mirrorBounceForward('N'))\n",
    "print(a.mirrorBounceForward('E'))\n",
    "print(a.mirrorBounceBack('S'))\n",
    "print(a.mirrorBounceBack('W'))"
   ]
  },
  {
   "cell_type": "markdown",
   "metadata": {},
   "source": [
    "## C. Parsing Input"
   ]
  },
  {
   "cell_type": "code",
   "execution_count": 91,
   "metadata": {},
   "outputs": [],
   "source": [
    "def parseInput(pathToInputFile):\n",
    "    file = open(pathToInputFile, 'r')\n",
    "    inputList = []\n",
    "    for line in file: \n",
    "        inputList.append(line.split(' '))\n",
    "    \n",
    "    gridSize = [int(inputList[0][0]), int(inputList[0][1][0])]\n",
    "    playerPos = [int(inputList[1][0]), int(inputList[1][1]), inputList[1][2][0]]\n",
    "    mirrorForward = []\n",
    "    mirrorBack = []\n",
    "    \n",
    "    if len(inputList) > 2:\n",
    "        for i in range(2, len(inputList)):\n",
    "            if inputList[i][2][0] == '/':\n",
    "                mirrorForward.append([int(inputList[i][0]), int(inputList[i][1])])\n",
    "            elif inputList[i][2][0] == '\\\\':\n",
    "                mirrorBack.append([int(inputList[i][0]), int(inputList[i][1])])\n",
    "    \n",
    "    return (gridSize, playerPos, mirrorForward, mirrorBack)"
   ]
  },
  {
   "cell_type": "code",
   "execution_count": 92,
   "metadata": {},
   "outputs": [
    {
     "name": "stdout",
     "output_type": "stream",
     "text": [
      "([5, 6], [1, 4, 'S'], [[3, 4], [3, 0]], [[1, 2], [3, 2], [4, 3]])\n"
     ]
    }
   ],
   "source": [
    "print(parseInput('givenTest.txt'))"
   ]
  },
  {
   "cell_type": "markdown",
   "metadata": {},
   "source": [
    "## D. Writing output"
   ]
  },
  {
   "cell_type": "code",
   "execution_count": 121,
   "metadata": {},
   "outputs": [],
   "source": [
    "def writeOutput(numTraversedSquares, finalCoordinates, pathToOutput):\n",
    "    outFile = open(pathToOutput, 'w') \n",
    "    outFile.write(str(numTraversedSquares) + '\\n') \n",
    "    outFile.write(str(finalCoordinates[0]) + ' ' + str(finalCoordinates[1]))\n",
    "    outFile.close()"
   ]
  },
  {
   "cell_type": "code",
   "execution_count": 122,
   "metadata": {},
   "outputs": [],
   "source": [
    "writeOutput(5, [10, 11], 'testing.txt')"
   ]
  },
  {
   "cell_type": "markdown",
   "metadata": {},
   "source": [
    "## E. Solving algorithm"
   ]
  },
  {
   "cell_type": "code",
   "execution_count": 114,
   "metadata": {},
   "outputs": [],
   "source": [
    "def Solve(laser, arena):\n",
    "    \n",
    "    while not(arena.infiniteLoop(laser.posx, laser.posy, laser.compass) or arena.hitWall(laser.posx, laser.posy)):\n",
    "        arena.addtoTraversed(laser.posx, laser.posy, laser.compass)\n",
    "        print(arena.traversed[-1])\n",
    "        \n",
    "        if arena.mirror(laser.posx, laser.posy) == 'F':\n",
    "            laser.changeDir(arena.mirrorBounceForward(laser.compass))\n",
    "            laser.move(laser.compass)\n",
    "        elif arena.mirror(laser.posx, laser.posy) == 'B':\n",
    "            laser.changeDir(arena.mirrorBounceBack(laser.compass))\n",
    "            laser.move(laser.compass)\n",
    "        else:\n",
    "            laser.move(laser.compass)\n",
    "            \n",
    "    if arena.infiniteLoop(laser.posx, laser.posy, laser.compass):\n",
    "        squares = -1\n",
    "    else:\n",
    "        squares = len(arena.traversed) - 1 #Do not count starting player square\n",
    "        \n",
    "    lastpos = arena.traversed[-1][0:2]\n",
    "    \n",
    "    return (squares, lastpos)"
   ]
  },
  {
   "cell_type": "code",
   "execution_count": 115,
   "metadata": {},
   "outputs": [
    {
     "name": "stdout",
     "output_type": "stream",
     "text": [
      "[1, 4, 'S']\n",
      "[1, 3, 'S']\n",
      "[1, 2, 'S']\n",
      "[2, 2, 'E']\n",
      "[3, 2, 'E']\n",
      "[3, 1, 'S']\n",
      "[3, 0, 'S']\n",
      "[2, 0, 'W']\n",
      "[1, 0, 'W']\n",
      "[0, 0, 'W']\n",
      "9\n",
      "[0, 0]\n"
     ]
    }
   ],
   "source": [
    "arenaSize, playerPos, forwardSlash, backSlash = parseInput('givenTest.txt')\n",
    "lzr = Laser(playerPos[0], playerPos[1], playerPos[2])\n",
    "a = Arena(arenaSize[0], arenaSize[1], forwardSlash, backSlash)\n",
    "numSquares, coord = Solve(lzr, a)\n",
    "print(numSquares)\n",
    "print(coord)"
   ]
  },
  {
   "cell_type": "markdown",
   "metadata": {},
   "source": [
    "## F. Everything together"
   ]
  },
  {
   "cell_type": "code",
   "execution_count": 116,
   "metadata": {},
   "outputs": [],
   "source": [
    "def main():\n",
    "    \n",
    "    #Load input information\n",
    "    arenaSize, playerPos, forwardSlash, backSlash = parseInput('givenTest.txt')\n",
    "    \n",
    "    #Initialize laser and arena objects\n",
    "    lzr = Laser(playerPos[0], playerPos[1], playerPos[2])\n",
    "    a = Arena(arenaSize[0], arenaSize[1], forwardSlash, backSlash)\n",
    "    \n",
    "    #Solve the challenge\n",
    "    numSquares, coord = Solve(lzr, a)\n",
    "    \n",
    "    #Write output file\n",
    "    writeOutput(numSquares, coord)"
   ]
  },
  {
   "cell_type": "code",
   "execution_count": 118,
   "metadata": {},
   "outputs": [
    {
     "name": "stdout",
     "output_type": "stream",
     "text": [
      "[1, 4, 'S']\n",
      "[1, 3, 'S']\n",
      "[1, 2, 'S']\n",
      "[2, 2, 'E']\n",
      "[3, 2, 'E']\n",
      "[3, 1, 'S']\n",
      "[3, 0, 'S']\n",
      "[2, 0, 'W']\n",
      "[1, 0, 'W']\n",
      "[0, 0, 'W']\n"
     ]
    }
   ],
   "source": [
    "main()"
   ]
  }
 ],
 "metadata": {
  "kernelspec": {
   "display_name": "Python 3",
   "language": "python",
   "name": "python3"
  },
  "language_info": {
   "codemirror_mode": {
    "name": "ipython",
    "version": 3
   },
   "file_extension": ".py",
   "mimetype": "text/x-python",
   "name": "python",
   "nbconvert_exporter": "python",
   "pygments_lexer": "ipython3",
   "version": "3.6.4"
  }
 },
 "nbformat": 4,
 "nbformat_minor": 2
}
