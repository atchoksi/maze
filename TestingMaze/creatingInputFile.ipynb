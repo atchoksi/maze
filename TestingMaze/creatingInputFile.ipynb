{
 "cells": [
  {
   "cell_type": "markdown",
   "metadata": {},
   "source": [
    "# Testing maze.py"
   ]
  },
  {
   "cell_type": "code",
   "execution_count": 12,
   "metadata": {},
   "outputs": [],
   "source": [
    "def createInput(filename, gridsize, playerCoordinates, FMirrors, BMirrors):\n",
    "    #gridsize, playerCoordinates, forwardMirrors, backMirrors are all lists\n",
    "    #each element of playerCoordinates, forwardMirrors, and backMirrors is another array with [x, y] and possible direction if playerCoordinates\n",
    "    outFile = open(filename, 'w') \n",
    "    outFile.write(str(gridsize[0]) + ' ' + str(gridsize[1]) + '\\n') \n",
    "    outFile.write(str(playerCoordinates[0]) + ' ' + str(playerCoordinates[1]) + ' ' + playerCoordinates[2] + '\\n')\n",
    "    for i in range(len(FMirrors)):\n",
    "        outFile.write(str(FMirrors[i][0]) + ' ' + str(FMirrors[i][1]) + ' /\\n')\n",
    "    for i in range(len(BMirrors)):\n",
    "        outFile.write(str(BMirrors[i][0]) + ' ' + str(BMirrors[i][1]) + ' \\\\\\n')\n",
    "    outFile.close()"
   ]
  },
  {
   "cell_type": "code",
   "execution_count": 13,
   "metadata": {},
   "outputs": [],
   "source": [
    "createInput('testtest.txt', [5, 5], [1, 2, 'N'], [[1,1], [2,2], [3,3]], [[4,4]])"
   ]
  },
  {
   "cell_type": "markdown",
   "metadata": {},
   "source": [
    "## A. Create clockwise path input files"
   ]
  },
  {
   "cell_type": "code",
   "execution_count": 20,
   "metadata": {},
   "outputs": [],
   "source": [
    "for i in [3, 10, 50, 100, 200, 500, 1000]:\n",
    "    name = 'clockwiseTest/clockwiseSize' + str(i) + '.txt'\n",
    "    createInput(name, [i, i], [0, i-1, 'E'], [[i-1, 0]], [[i-1, i-1]])"
   ]
  },
  {
   "cell_type": "markdown",
   "metadata": {},
   "source": [
    "## B. Create infinite loop mazes"
   ]
  },
  {
   "cell_type": "code",
   "execution_count": 23,
   "metadata": {},
   "outputs": [],
   "source": [
    "for i in [3, 10, 50, 100, 200, 500, 1000]:\n",
    "    name = 'loopTest/infiniteSize' + str(i) + '.txt'\n",
    "    createInput(name, [i, i], [1, i-1, 'E'], [[i-1, 0], [0, i-1]], [[i-1, i-1], [0, 0]])"
   ]
  },
  {
   "cell_type": "markdown",
   "metadata": {},
   "source": [
    "## C. Test maze.py with clockwise path"
   ]
  },
  {
   "cell_type": "code",
   "execution_count": 35,
   "metadata": {},
   "outputs": [],
   "source": [
    "import os\n",
    "\n",
    "#Run maze.py on all clockwise tests\n",
    "tests = os.listdir('clockwiseTest/')\n",
    "for i in tests:\n",
    "    os.system('../maze.py clockwiseTest/' + i + ' clockwiseTestOutputs/' + i)"
   ]
  },
  {
   "cell_type": "markdown",
   "metadata": {},
   "source": [
    "Make sure the number of traversed squares in all files is one dimension of the grid size x 3 - 3. For example, the number of traversed squares for a 1000 X 1000 arena should be 1000 x 3 - 3.\n",
    "\n",
    "Make sure the final coordinate is (0,0) in all tests."
   ]
  },
  {
   "cell_type": "markdown",
   "metadata": {},
   "source": [
    "## D. Test maze.py with infinite loops"
   ]
  },
  {
   "cell_type": "code",
   "execution_count": 40,
   "metadata": {},
   "outputs": [],
   "source": [
    "#Run maze.py on all clockwise tests\n",
    "tests = os.listdir('loopTest/')\n",
    "for i in tests:\n",
    "    os.system('../maze.py loopTest/' + i + ' loopTestOutputs/' + i)"
   ]
  },
  {
   "cell_type": "markdown",
   "metadata": {},
   "source": [
    "Make sure number of traversed squares in all files is -1."
   ]
  }
 ],
 "metadata": {
  "kernelspec": {
   "display_name": "Python 3",
   "language": "python",
   "name": "python3"
  },
  "language_info": {
   "codemirror_mode": {
    "name": "ipython",
    "version": 3
   },
   "file_extension": ".py",
   "mimetype": "text/x-python",
   "name": "python",
   "nbconvert_exporter": "python",
   "pygments_lexer": "ipython3",
   "version": "3.6.4"
  }
 },
 "nbformat": 4,
 "nbformat_minor": 2
}
